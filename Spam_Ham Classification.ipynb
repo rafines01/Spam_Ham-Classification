{
 "cells": [
  {
   "cell_type": "markdown",
   "id": "138fe04d-cc73-441d-b00a-44681cea1c82",
   "metadata": {},
   "source": [
    "# **Spam/Ham Classification Using Logistic Regression**\n",
    "\n",
    "## **Overview**\n",
    "This project aims to classify emails as spam or ham (non-spam) using machine learning techniques. The dataset contains email messages from the SpamAssassin dataset, labeled as either spam (1) or ham (0). Our main objective is to develop a reliable binary classifier that can distinguish spam emails from legitimate ones using natural language processing (NLP) techniques and machine learning.\n",
    "\n",
    "### **Dataset**\n",
    "\n",
    "- The dataset consists of 8,348 labeled examples for training and 1,000 unlabeled examples for testing.\n",
    "- This is a **real world** dataset – the emails you are trying to classify are actual spam and legitimate emails. As a result, some of the spam emails may be in poor taste or be considered inappropriate. We think the benefit of working with realistic data outweighs these innapropriate emails, and wanted to give a warning at the beginning of the project so that you are made aware."
   ]
  },
  {
   "cell_type": "markdown",
   "id": "9a7877f5-e023-4a08-bcc5-944a5383c986",
   "metadata": {},
   "source": [
    "### **Steps in the Analysis:**\n",
    "\n",
    "1. Data Loading and Initial Exploration\n",
    "2. Basic Feature Engineering\n",
    "3. Exploratory Data Analysis (EDA)\n",
    "4. Building and Evaluating a Logistic Regression Classifier\n",
    "5. Evaluation Metrics and Conclusion"
   ]
  },
  {
   "cell_type": "markdown",
   "id": "2f76f57e-6e21-4f99-afda-f7d98a459d74",
   "metadata": {},
   "source": [
    "Importing libraries"
   ]
  },
  {
   "cell_type": "code",
   "execution_count": 17,
   "id": "c4b6bb08-6062-458b-83ee-f7c332a43566",
   "metadata": {},
   "outputs": [],
   "source": [
    "import numpy as np\n",
    "import pandas as pd\n",
    "\n",
    "import matplotlib.pyplot as plt\n",
    "%matplotlib inline\n",
    "\n",
    "import seaborn as sns\n",
    "sns.set(style = \"whitegrid\", \n",
    "        color_codes = True,\n",
    "        font_scale = 1.5)\n",
    "import zipfile\n",
    "with zipfile.ZipFile('spam_ham_data.zip') as item:\n",
    "    item.extractall()\n",
    "import warnings\n",
    "warnings.filterwarnings(\"ignore\", category=FutureWarning)"
   ]
  },
  {
   "cell_type": "markdown",
   "id": "be293059-8e1f-49f8-b000-2fba2497f25f",
   "metadata": {},
   "source": [
    "## **1. Data Loading and Initial Exploration**"
   ]
  },
  {
   "cell_type": "code",
   "execution_count": 3,
   "id": "6d7bf874-84e6-45e8-8b3b-99ac93fccf15",
   "metadata": {},
   "outputs": [
    {
     "data": {
      "text/html": [
       "<div>\n",
       "<style scoped>\n",
       "    .dataframe tbody tr th:only-of-type {\n",
       "        vertical-align: middle;\n",
       "    }\n",
       "\n",
       "    .dataframe tbody tr th {\n",
       "        vertical-align: top;\n",
       "    }\n",
       "\n",
       "    .dataframe thead th {\n",
       "        text-align: right;\n",
       "    }\n",
       "</style>\n",
       "<table border=\"1\" class=\"dataframe\">\n",
       "  <thead>\n",
       "    <tr style=\"text-align: right;\">\n",
       "      <th></th>\n",
       "      <th>id</th>\n",
       "      <th>subject</th>\n",
       "      <th>email</th>\n",
       "      <th>spam</th>\n",
       "    </tr>\n",
       "  </thead>\n",
       "  <tbody>\n",
       "    <tr>\n",
       "      <th>0</th>\n",
       "      <td>0</td>\n",
       "      <td>Subject: A&amp;L Daily to be auctioned in bankrupt...</td>\n",
       "      <td>url: http://boingboing.net/#85534171\\n date: n...</td>\n",
       "      <td>0</td>\n",
       "    </tr>\n",
       "    <tr>\n",
       "      <th>1</th>\n",
       "      <td>1</td>\n",
       "      <td>Subject: Wired: \"Stronger ties between ISPs an...</td>\n",
       "      <td>url: http://scriptingnews.userland.com/backiss...</td>\n",
       "      <td>0</td>\n",
       "    </tr>\n",
       "    <tr>\n",
       "      <th>2</th>\n",
       "      <td>2</td>\n",
       "      <td>Subject: It's just too small                  ...</td>\n",
       "      <td>&lt;html&gt;\\n &lt;head&gt;\\n &lt;/head&gt;\\n &lt;body&gt;\\n &lt;font siz...</td>\n",
       "      <td>1</td>\n",
       "    </tr>\n",
       "    <tr>\n",
       "      <th>3</th>\n",
       "      <td>3</td>\n",
       "      <td>Subject: liberal defnitions\\n</td>\n",
       "      <td>depends on how much over spending vs. how much...</td>\n",
       "      <td>0</td>\n",
       "    </tr>\n",
       "    <tr>\n",
       "      <th>4</th>\n",
       "      <td>4</td>\n",
       "      <td>Subject: RE: [ILUG] Newbie seeks advice - Suse...</td>\n",
       "      <td>hehe sorry but if you hit caps lock twice the ...</td>\n",
       "      <td>0</td>\n",
       "    </tr>\n",
       "  </tbody>\n",
       "</table>\n",
       "</div>"
      ],
      "text/plain": [
       "   id                                            subject  \\\n",
       "0   0  Subject: A&L Daily to be auctioned in bankrupt...   \n",
       "1   1  Subject: Wired: \"Stronger ties between ISPs an...   \n",
       "2   2  Subject: It's just too small                  ...   \n",
       "3   3                      Subject: liberal defnitions\\n   \n",
       "4   4  Subject: RE: [ILUG] Newbie seeks advice - Suse...   \n",
       "\n",
       "                                               email  spam  \n",
       "0  url: http://boingboing.net/#85534171\\n date: n...     0  \n",
       "1  url: http://scriptingnews.userland.com/backiss...     0  \n",
       "2  <html>\\n <head>\\n </head>\\n <body>\\n <font siz...     1  \n",
       "3  depends on how much over spending vs. how much...     0  \n",
       "4  hehe sorry but if you hit caps lock twice the ...     0  "
      ]
     },
     "execution_count": 3,
     "metadata": {},
     "output_type": "execute_result"
    }
   ],
   "source": [
    "# Loading training and test datasets\n",
    "original_training_data = pd.read_csv('train.csv')\n",
    "test = pd.read_csv('test.csv')\n",
    "\n",
    "# Convert the emails to lowercase as the first step of text processing.\n",
    "original_training_data['email'] = original_training_data['email'].str.lower()\n",
    "test['email'] = test['email'].str.lower()\n",
    "\n",
    "original_training_data.head()"
   ]
  },
  {
   "cell_type": "code",
   "execution_count": 4,
   "id": "4e039294-92d8-4dae-8dfa-4d38604abddb",
   "metadata": {},
   "outputs": [
    {
     "name": "stdout",
     "output_type": "stream",
     "text": [
      "Before imputation:\n",
      "id         0\n",
      "subject    6\n",
      "email      0\n",
      "spam       0\n",
      "dtype: int64\n",
      "------------\n",
      "After imputation:\n",
      "id         0\n",
      "subject    0\n",
      "email      0\n",
      "spam       0\n",
      "dtype: int64\n"
     ]
    }
   ],
   "source": [
    "# Check for missing values and handle them\n",
    "print('Before imputation:')\n",
    "print(original_training_data.isnull().sum())\n",
    "original_training_data = original_training_data.fillna('')\n",
    "print('------------')\n",
    "print('After imputation:')\n",
    "print(original_training_data.isnull().sum())"
   ]
  },
  {
   "cell_type": "markdown",
   "id": "e96895d6-7b29-4e91-b95d-34b0d9cc14c8",
   "metadata": {},
   "source": [
    "### Initial Data Analysis\n",
    "\n",
    "We will explore the content of the first ham email and the first spam email to observe any noticeable differences that may be useful for feature engineering."
   ]
  },
  {
   "cell_type": "code",
   "execution_count": 6,
   "id": "f4cd95d2-0980-4d92-a5e3-e9bbc8d15e8e",
   "metadata": {},
   "outputs": [
    {
     "name": "stdout",
     "output_type": "stream",
     "text": [
      "url: http://boingboing.net/#85534171\n",
      " date: not supplied\n",
      " \n",
      " arts and letters daily, a wonderful and dense blog, has folded up its tent due \n",
      " to the bankruptcy of its parent company. a&l daily will be auctioned off by the \n",
      " receivers. link[1] discuss[2] (_thanks, misha!_)\n",
      " \n",
      " [1] http://www.aldaily.com/\n",
      " [2] http://www.quicktopic.com/boing/h/zlfterjnd6jf\n",
      " \n",
      " \n",
      "\n",
      "-----\n",
      "<html>\n",
      " <head>\n",
      " </head>\n",
      " <body>\n",
      " <font size=3d\"4\"><b> a man endowed with a 7-8\" hammer is simply<br>\n",
      "  better equipped than a man with a 5-6\"hammer. <br>\n",
      " <br>would you rather have<br>more than enough to get the job done or fall =\n",
      " short. it's totally up<br>to you. our methods are guaranteed to increase y=\n",
      " our size by 1-3\"<br> <a href=3d\"http://209.163.187.47/cgi-bin/index.php?10=\n",
      " 004\">come in here and see how</a>\n",
      " </body>\n",
      " </html>\n",
      " \n",
      " \n",
      " \n",
      "\n"
     ]
    }
   ],
   "source": [
    "first_ham = original_training_data.loc[original_training_data['spam'] == 0, 'email'].iloc[0]\n",
    "first_spam = original_training_data.loc[original_training_data['spam'] == 1, 'email'].iloc[0]\n",
    "print(first_ham)\n",
    "print(\"-----\")\n",
    "print(first_spam)"
   ]
  },
  {
   "cell_type": "markdown",
   "id": "f1ab2517-a8b1-4f71-bfe8-a10ef1591f67",
   "metadata": {},
   "source": [
    "### Observations:\n",
    "- The ham email is more straightforward, with proper link formatting and formal language.\n",
    "- The spam email often has promotional content, HTML tags, and a more eye-catching tone."
   ]
  },
  {
   "cell_type": "markdown",
   "id": "5767a58c-fdc6-4fe1-be6e-83f0f536471b",
   "metadata": {},
   "source": [
    "## **2. Basic Feature Engineering**"
   ]
  },
  {
   "cell_type": "markdown",
   "id": "b3e5aacd-515f-4118-82b1-10edce56afd5",
   "metadata": {},
   "source": [
    "To classify emails, we need to transform the text data into numerical features that machine learning models can use. We will create a function to check for specific words in the email text and transform the text into a binary feature matrix."
   ]
  },
  {
   "cell_type": "code",
   "execution_count": 7,
   "id": "25809375-7b6c-4ab9-ba5f-04adc5cb6cc2",
   "metadata": {},
   "outputs": [],
   "source": [
    "def words_in_texts(words, texts):\n",
    "    \"\"\"\n",
    "    Args:\n",
    "        words (list): words to find\n",
    "        texts (Series): strings to search in\n",
    "    \n",
    "    Returns:\n",
    "        A 2D NumPy array of 0s and 1s with shape (n, p) where \n",
    "        n is the number of texts and p is the number of words.\n",
    "    \"\"\"\n",
    "    indicator_array = np.zeros((len(texts), len(words)), dtype=int)\n",
    "    for j, word in enumerate(words):\n",
    "        indicator_array[:, j] = [int(word in text) for text in texts]\n",
    "    return indicator_array"
   ]
  },
  {
   "cell_type": "markdown",
   "id": "b70633f5-d6bd-4449-8d32-c13ad1353ee9",
   "metadata": {},
   "source": [
    "## **3. Exploratory Data Analysis**"
   ]
  },
  {
   "cell_type": "markdown",
   "id": "6c5b0952-1c76-486b-a644-d635ba6ab686",
   "metadata": {},
   "source": [
    "We compare the proportion of emails in each class containing a set of specific words. This helps us identify patterns that can distinguish spam from ham emails."
   ]
  },
  {
   "cell_type": "code",
   "execution_count": 18,
   "id": "53159422-b147-4b86-9672-cb7dd43090f5",
   "metadata": {},
   "outputs": [
    {
     "data": {
      "image/png": "[encoded data removed]",
      "text/plain": [
       "<Figure size 800x600 with 1 Axes>"
      ]
     },
     "metadata": {},
     "output_type": "display_data"
    }
   ],
   "source": [
    "# Splitting data for train and validation (90/10 split)\n",
    "from sklearn.model_selection import train_test_split\n",
    "train, val = train_test_split(original_training_data, test_size=0.1, random_state=42)\n",
    "\n",
    "# Reset the index to maintain alignment of labels with emails\n",
    "train = train.reset_index(drop=True)\n",
    "\n",
    "# Plot word frequency in spam and ham emails\n",
    "plt.figure(figsize=(8, 6))\n",
    "list_words = words_in_texts(['dear', 'font', 'please', 'thanks', 'best', 'article'], train['email'])\n",
    "words = pd.DataFrame({\n",
    "    'dear': list_words[:, 0],\n",
    "    'font': list_words[:, 1],\n",
    "    'please': list_words[:, 2],\n",
    "    'thanks': list_words[:, 3],\n",
    "    'best': list_words[:, 4],\n",
    "    'article': list_words[:, 5],\n",
    "})\n",
    "words['type'] = train['spam']\n",
    "melt = words.melt('type')\n",
    "sns.barplot(data=melt, x='variable', y='value', hue='type', ci=None)\n",
    "plt.legend(['ham', 'spam'])\n",
    "plt.xlabel('Words')\n",
    "plt.ylabel('Proportion of Emails')\n",
    "plt.title('Frequency of Words in Spam and Ham Emails')\n",
    "plt.tight_layout()\n",
    "plt.show()"
   ]
  },
  {
   "cell_type": "markdown",
   "id": "f7cf5581-f7f3-40b0-bc0b-cb9ecaab8203",
   "metadata": {},
   "source": [
    "- Certain words, like \"dear\" and \"font,\" appear more frequently in spam emails, which may be useful features for classification.\n",
    "\n",
    "- The word \"thanks\" and \"article\" have a higher frequency in ham emails, indicating that they might be characteristic of non-spam messages (e.g., professional or polite emails)."
   ]
  },
  {
   "cell_type": "markdown",
   "id": "28567a64-ec24-4bc2-a158-0047af55cf3c",
   "metadata": {},
   "source": [
    "## **4. Building and Evaluating a Logistic Regression Classifier**"
   ]
  },
  {
   "cell_type": "code",
   "execution_count": 9,
   "id": "26b991f7-baf0-4dd7-8432-6837d0512b0d",
   "metadata": {},
   "outputs": [
    {
     "name": "stdout",
     "output_type": "stream",
     "text": [
      "Training Accuracy:  0.7576201251164648\n"
     ]
    }
   ],
   "source": [
    "from sklearn.linear_model import LogisticRegression\n",
    "\n",
    "# Create feature matrix and label vector for training\n",
    "some_words = ['drug', 'bank', 'prescription', 'memo', 'private']\n",
    "X_train = words_in_texts(some_words, train['email'])\n",
    "Y_train = train['spam']\n",
    "\n",
    "# Train the Logistic Regression model\n",
    "model = LogisticRegression(fit_intercept=True, penalty='l2')\n",
    "model.fit(X_train, Y_train)\n",
    "\n",
    "# Predict and calculate training accuracy\n",
    "predicted = model.predict(X_train)\n",
    "training_accuracy = sum(predicted == Y_train) / len(Y_train)\n",
    "print(\"Training Accuracy: \", training_accuracy)"
   ]
  },
  {
   "cell_type": "markdown",
   "id": "d5fa2655-063a-4a6e-95b8-3e1b1beb4625",
   "metadata": {},
   "source": [
    "## **5. Evaluation Metrics**"
   ]
  },
  {
   "cell_type": "code",
   "execution_count": 10,
   "id": "258b3b69-f585-48fc-a456-68a6a7932123",
   "metadata": {},
   "outputs": [
    {
     "name": "stdout",
     "output_type": "stream",
     "text": [
      "True Positives: 219, True Negatives: 5473, False Positives: 122, False Negatives: 1699\n",
      "Precision: 0.64, Recall: 0.11, False Positive Rate: 0.02\n"
     ]
    }
   ],
   "source": [
    "# Manually calculating evaluation metrics\n",
    "FN = sum((predicted != Y_train) & (predicted == 0))\n",
    "FP = sum((predicted != Y_train) & (predicted == 1))\n",
    "TN = sum((predicted == Y_train) & (predicted == 0))\n",
    "TP = sum((predicted == Y_train) & (predicted == 1))\n",
    "\n",
    "logistic_predictor_precision = TP / (TP + FP)\n",
    "logistic_predictor_recall = TP / (TP + FN)\n",
    "logistic_predictor_fpr = FP / (TP + TN + FP + FN)\n",
    "\n",
    "print(f\"True Positives: {TP}, True Negatives: {TN}, False Positives: {FP}, False Negatives: {FN}\")\n",
    "print(f\"Precision: {logistic_predictor_precision:.2f}, Recall: {logistic_predictor_recall:.2f}, False Positive Rate: {logistic_predictor_fpr:.2f}\")"
   ]
  },
  {
   "cell_type": "markdown",
   "id": "e6eca2ce-dd52-4253-ad62-1887eae75540",
   "metadata": {},
   "source": [
    "We observe that the model achieved 75.76% training accuracy.\n",
    "There are a significant number of false negatives, suggesting that the model struggles to correctly classify spam emails. Words like \"drug\" or \"bank\" may be too common in ham emails, affecting model performance."
   ]
  },
  {
   "cell_type": "markdown",
   "id": "f7ef884f-403c-4528-b5b2-90937c84ae0a",
   "metadata": {},
   "source": [
    "## **6. Enhanced Model**\n",
    "\n",
    "First let's enhance our model with TF-IDF and Naive Bayes"
   ]
  },
  {
   "cell_type": "code",
   "execution_count": 14,
   "id": "19190f2f-af33-4a9f-a2b7-ab83818933f9",
   "metadata": {},
   "outputs": [
    {
     "name": "stdout",
     "output_type": "stream",
     "text": [
      "Validation Accuracy: 0.9437125748502994\n",
      "Classification Report:\n",
      "               precision    recall  f1-score   support\n",
      "\n",
      "           0       0.96      0.96      0.96       613\n",
      "           1       0.89      0.90      0.89       222\n",
      "\n",
      "    accuracy                           0.94       835\n",
      "   macro avg       0.93      0.93      0.93       835\n",
      "weighted avg       0.94      0.94      0.94       835\n",
      "\n"
     ]
    }
   ],
   "source": [
    "from sklearn.feature_extraction.text import TfidfVectorizer\n",
    "from sklearn.naive_bayes import MultinomialNB\n",
    "from sklearn.model_selection import cross_val_score\n",
    "from sklearn.metrics import classification_report, accuracy_score\n",
    "\n",
    "# TF-IDF Vectorization\n",
    "tfidf = TfidfVectorizer(stop_words='english', max_features=5000, ngram_range=(1, 2))\n",
    "X_train_tfidf = tfidf.fit_transform(train['email'])\n",
    "X_val_tfidf = tfidf.transform(val['email'])\n",
    "y_train = train['spam']\n",
    "y_val = val['spam']\n",
    "\n",
    "# Train a Naive Bayes Classifier\n",
    "nb_model = MultinomialNB()\n",
    "nb_model.fit(X_train_tfidf, y_train)\n",
    "\n",
    "# Evaluate on validation set\n",
    "y_pred = nb_model.predict(X_val_tfidf)\n",
    "print(\"Validation Accuracy:\", accuracy_score(y_val, y_pred))\n",
    "print(\"Classification Report:\\n\", classification_report(y_val, y_pred))"
   ]
  },
  {
   "cell_type": "markdown",
   "id": "63f02bde-2bf2-47f8-b2f3-487146c118cd",
   "metadata": {},
   "source": [
    "The Naive Bayes model performs well overall, with strong accuracy and balanced performance metrics. However, the slightly lower recall and precision for spam (Class 1) indicate that while the model effectively classifies spam, it could occasionally misclassify ham emails as spam or miss some spam emails."
   ]
  },
  {
   "cell_type": "markdown",
   "id": "41d609d2-accc-404d-a6d2-4045c23d49a6",
   "metadata": {},
   "source": [
    "Let's try Hyperparameter Tuning with Logistic Regression"
   ]
  },
  {
   "cell_type": "code",
   "execution_count": 15,
   "id": "53037f40-b4cc-4682-ae4a-aff3499f4643",
   "metadata": {},
   "outputs": [
    {
     "name": "stdout",
     "output_type": "stream",
     "text": [
      "Validation Accuracy: 0.9928143712574851\n",
      "Classification Report:\n",
      "               precision    recall  f1-score   support\n",
      "\n",
      "           0       0.99      1.00      1.00       613\n",
      "           1       1.00      0.97      0.99       222\n",
      "\n",
      "    accuracy                           0.99       835\n",
      "   macro avg       1.00      0.99      0.99       835\n",
      "weighted avg       0.99      0.99      0.99       835\n",
      "\n"
     ]
    }
   ],
   "source": [
    "from sklearn.model_selection import GridSearchCV\n",
    "\n",
    "# Set up hyperparameter grid\n",
    "param_grid = {\n",
    "    'C': [0.01, 0.1, 1, 10],\n",
    "    'solver': ['liblinear', 'lbfgs']\n",
    "}\n",
    "\n",
    "# Grid search for Logistic Regression\n",
    "lr_model = LogisticRegression(max_iter=1000)\n",
    "grid_search = GridSearchCV(lr_model, param_grid, scoring='f1', cv=5)\n",
    "grid_search.fit(X_train_tfidf, y_train)\n",
    "\n",
    "# Best model\n",
    "best_lr_model = grid_search.best_estimator_\n",
    "y_pred_lr = best_lr_model.predict(X_val_tfidf)\n",
    "\n",
    "# Evaluate the tuned Logistic Regression\n",
    "print(\"Validation Accuracy:\", accuracy_score(y_val, y_pred_lr))\n",
    "print(\"Classification Report:\\n\", classification_report(y_val, y_pred_lr))"
   ]
  },
  {
   "cell_type": "markdown",
   "id": "72c782b1-dbb4-4059-842d-7cd209ee6b8e",
   "metadata": {},
   "source": [
    "After tuning, we can observe that the Logistic Regression model significantly outperforms the Naive Bayes model, with near-perfect precision, recall, and F1-scores. The extremely high validation accuracy and class-specific performance metrics suggest this model is highly effective for spam detection.\n",
    "\n",
    "Below we are visualizing Model Performance using confusion_matrix."
   ]
  },
  {
   "cell_type": "code",
   "execution_count": 16,
   "id": "8a797c21-33f1-4303-99bc-a4930ee5d454",
   "metadata": {},
   "outputs": [
    {
     "data": {
      "image/png": "[encoded data removed]",
      "text/plain": [
       "<Figure size 640x480 with 2 Axes>"
      ]
     },
     "metadata": {},
     "output_type": "display_data"
    }
   ],
   "source": [
    "from sklearn.metrics import confusion_matrix, ConfusionMatrixDisplay\n",
    "\n",
    "# Plot confusion matrix\n",
    "conf_matrix = confusion_matrix(y_val, y_pred_lr)\n",
    "ConfusionMatrixDisplay(conf_matrix, display_labels=[\"Ham\", \"Spam\"]).plot(cmap=\"Blues\")\n",
    "plt.title(\"Confusion Matrix - Logistic Regression\")\n",
    "plt.show()"
   ]
  },
  {
   "cell_type": "markdown",
   "id": "437850f8-2504-4516-a2bd-76255d8ee972",
   "metadata": {},
   "source": [
    "## **Key Takeaways**\n",
    "1. Data Preparation Matters:\n",
    "Lowercasing text and handling missing values ensured consistent preprocessing.\n",
    "Transforming text into numerical representations (e.g., binary word indicators, TF-IDF) was crucial for enabling machine learning models to process email content effectively.\n",
    "2. Model Performance:\n",
    "The Naive Bayes Classifier provided a strong baseline, with good accuracy and a balanced F1-score for ham and spam detection.\n",
    "The Tuned Logistic Regression Model significantly outperformed Naive Bayes, achieving 99.28% validation accuracy and near-perfect precision, recall, and F1-scores. It proved to be highly reliable in distinguishing spam from ham emails.\n",
    "3. Evaluation Metrics:\n",
    "Precision, recall, and F1-score provided a more nuanced understanding of model performance beyond accuracy.\n",
    "The logistic regression model minimized false positives and false negatives, making it a better fit for real-world spam detection.\n",
    "4. Feature Engineering's Impact:\n",
    "Using TF-IDF vectorization enhanced the model's ability to differentiate between ham and spam by emphasizing important terms while reducing noise.\n",
    "Choosing relevant features (e.g., specific word patterns) improved classification performance."
   ]
  }
 ],
 "metadata": {
  "kernelspec": {
   "display_name": "Python 3 (ipykernel)",
   "language": "python",
   "name": "python3"
  },
  "language_info": {
   "codemirror_mode": {
    "name": "ipython",
    "version": 3
   },
   "file_extension": ".py",
   "mimetype": "text/x-python",
   "name": "python",
   "nbconvert_exporter": "python",
   "pygments_lexer": "ipython3",
   "version": "3.11.10"
  }
 },
 "nbformat": 4,
 "nbformat_minor": 5
}
